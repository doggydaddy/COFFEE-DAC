{
 "cells": [
  {
   "cell_type": "code",
   "execution_count": 1,
   "metadata": {},
   "outputs": [],
   "source": [
    "from pyfunctions import *"
   ]
  },
  {
   "cell_type": "code",
   "execution_count": 2,
   "metadata": {},
   "outputs": [],
   "source": [
    "# cell to generate simulated data of size N\n",
    "\n",
    "N = 5000\n",
    "subject_list = [\n",
    "                \"sim_sub_01.txt\", \n",
    "                \"sim_sub_02.txt\", \n",
    "                \"sim_sub_03.txt\", \n",
    "                \"sim_sub_04.txt\", \n",
    "                \"sim_sub_05.txt\", \n",
    "                \"sim_sub_06.txt\", \n",
    "                \"sim_sub_07.txt\", \n",
    "                \"sim_sub_08.txt\", \n",
    "                \"sim_sub_09.txt\", \n",
    "                \"sim_sub_10.txt\", \n",
    "                \"sim_sub_11.txt\", \n",
    "                \"sim_sub_12.txt\", \n",
    "                \"sim_sub_13.txt\", \n",
    "                \"sim_sub_14.txt\", \n",
    "                \"sim_sub_15.txt\", \n",
    "                \"sim_sub_16.txt\", \n",
    "                \"sim_sub_17.txt\", \n",
    "                \"sim_sub_18.txt\", \n",
    "                \"sim_sub_19.txt\", \n",
    "                \"sim_sub_20.txt\"\n",
    "            ]\n",
    "\n",
    "\n",
    "subject_list_A = [\n",
    "                \"sim_sub_01.txt\", \n",
    "                \"sim_sub_02.txt\", \n",
    "                \"sim_sub_03.txt\", \n",
    "                \"sim_sub_04.txt\", \n",
    "                \"sim_sub_05.txt\", \n",
    "                \"sim_sub_06.txt\", \n",
    "                \"sim_sub_07.txt\", \n",
    "                \"sim_sub_08.txt\", \n",
    "                \"sim_sub_09.txt\", \n",
    "                \"sim_sub_10.txt\"\n",
    "            ]\n",
    "\n",
    "\n",
    "for sub in subject_list:\n",
    "    sim_data = np.random.uniform(-1, 1, (N,N))\n",
    "    with open(sub, 'a') as f:\n",
    "        for i in range(N):\n",
    "            for j in range(i+1, N):\n",
    "                if i != j:\n",
    "                    a_random_nr = sim_data[i][j]\n",
    "                    if sub in subject_list_A and 1000 < i < 2000 and 3000 < j < 4000 and a_random_nr < 0.8:\n",
    "                        f.write(str(0.8)+\" \")\n",
    "                    else: \n",
    "                        f.write(str(sim_data[i][j])+\" \")\n",
    "            f.write(\"\\n\")\n",
    "    f.close()"
   ]
  },
  {
   "cell_type": "code",
   "execution_count": 3,
   "metadata": {},
   "outputs": [
    {
     "name": "stdout",
     "output_type": "stream",
     "text": [
      "d1 mean =  0.06453445526238558\n",
      "d1 high mean =  0.8099557305209453\n"
     ]
    }
   ],
   "source": [
    "# sanity check simulated data\n",
    "\n",
    "# d1 should have a high mean correlation coefficent for the \"select\" connections\n",
    "\n",
    "N = 5000 \n",
    "d1 = read_triangular_array(r'sim_sub_01.txt')\n",
    "print(\"d1 mean = \", np.mean(d1))\n",
    "\n",
    "high_sum = 0\n",
    "high_count = 0\n",
    "for k in range(d1.shape[0]):\n",
    "    i, j = k2ij(k, N)\n",
    "    if 1000 < i < 2000 and 3000 < j < 4000:\n",
    "        high_sum += d1[k]\n",
    "        high_count += 1\n",
    "high_mean = high_sum/high_count\n",
    "print(\"d1 high mean = \", high_mean)"
   ]
  },
  {
   "cell_type": "code",
   "execution_count": 4,
   "metadata": {},
   "outputs": [
    {
     "name": "stdout",
     "output_type": "stream",
     "text": [
      "sim_sub_11.txt mean = 4.3486957687113575e-05\n",
      "sim_sub_11.txt 'high' mean = -0.000380880993944671\n"
     ]
    }
   ],
   "source": [
    "\n",
    "# d11 should have the same correlation coefficent for the \"select\" connections\n",
    "\n",
    "N = 5000 \n",
    "input_data_path = r'sim_sub_11.txt'\n",
    "\n",
    "input_data = read_triangular_array(input_data_path)\n",
    "print(input_data_path, \"mean =\", np.mean(input_data))\n",
    "\n",
    "high_sum = 0\n",
    "high_count = 0\n",
    "for k in range(input_data.shape[0]):\n",
    "    i, j = k2ij(k, N)\n",
    "    if 1000 < i < 2000 and 3000 < j < 4000:\n",
    "        high_sum += input_data[k]\n",
    "        high_count += 1\n",
    "high_mean = high_sum/high_count\n",
    "print(input_data_path, \"'high' mean =\", high_mean)"
   ]
  }
 ],
 "metadata": {
  "kernelspec": {
   "display_name": "Python 3",
   "language": "python",
   "name": "python3"
  },
  "language_info": {
   "codemirror_mode": {
    "name": "ipython",
    "version": 3
   },
   "file_extension": ".py",
   "mimetype": "text/x-python",
   "name": "python",
   "nbconvert_exporter": "python",
   "pygments_lexer": "ipython3",
   "version": "3.10.12"
  },
  "orig_nbformat": 4,
  "vscode": {
   "interpreter": {
    "hash": "767d51c1340bd893661ea55ea3124f6de3c7a262a8b4abca0554b478b1e2ff90"
   }
  }
 },
 "nbformat": 4,
 "nbformat_minor": 2
}
