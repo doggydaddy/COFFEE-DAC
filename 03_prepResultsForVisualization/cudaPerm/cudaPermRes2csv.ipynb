{
 "cells": [
  {
   "cell_type": "code",
   "execution_count": 1,
   "metadata": {},
   "outputs": [],
   "source": [
    "import numpy as np\n",
    "import pandas as pd\n",
    "np.set_printoptions(suppress=True)\n",
    "\n",
    "# ------------------------------------------------------\n",
    "# low-level functions to parse upper triangular matrices\n",
    "# ------------------------------------------------------\n",
    "\n",
    "from itertools import chain\n",
    "from scipy.spatial.distance import squareform\n",
    "def iter_data(fileobj):\n",
    "    for line in fileobj:\n",
    "        yield from line.split()\n",
    "\n",
    "def read_triangular_array(path):\n",
    "    with open(path) as fileobj:\n",
    "        first = fileobj.readline().split()\n",
    "        n = len(first)\n",
    "        count = int(n*(n+1)/2)\n",
    "        data = chain(first, iter_data(fileobj))\n",
    "        return np.fromiter(data, float, count=count)"
   ]
  },
  {
   "cell_type": "code",
   "execution_count": 4,
   "metadata": {},
   "outputs": [
    {
     "name": "stdout",
     "output_type": "stream",
     "text": [
      "1D upper triangular format: (12497500,)\n",
      "2D square form format: (5000, 5000)\n"
     ]
    }
   ],
   "source": [
    "ss01_ut = read_triangular_array(r'sim_sub_01.txt')\n",
    "ss01_full = squareform(ss01_ut)\n",
    "\n",
    "print(\"1D upper triangular format:\", ss01_ut.shape)\n",
    "print(\"2D square form format:\", ss01_full.shape)\n",
    "\n",
    "# threshold values and binarize\n",
    "p_val_threshold = 0.01\n",
    "ss01_out = np.where(ss01_full>p_val_threshold, 1, 0)\n",
    "\n",
    "# load index to spatial coordinate dictionary from template dump\n",
    "template_name = r'masks/mask_brain4mm_idx_xyz.dump' \n",
    "template = np.loadtxt(template_name)\n",
    "\n",
    "nE = 0;\n",
    "N = ss01_out.shape[0]\n",
    "for A in range(N):\n",
    "    for B in range(N):\n",
    "        if ( ss01_out[i,j] == 1 ):\n",
    "            a_i = (int)(template[A, 1])\n",
    "            a_j = (int)(template[A, 2])\n",
    "            a_k = (int)(template[A, 3])\n",
    "            a_x, a_y, a_z = template[A, 4:7]\n",
    "            b_i = (int)(template[B, 1])\n",
    "            b_j = (int)(template[B, 2])\n",
    "            b_k = (int)(template[B, 3])\n",
    "            b_x, b_y, b_z = template[B, 4:7]\n",
    "            if (nE == 0):\n",
    "                edges_ijk = np.array([[a_i, a_j, a_k, b_i, b_j, b_k, 1]])\n",
    "                edges_xyz = np.array([[a_x, a_y, a_z, b_x, b_y, b_z, 1]])\n",
    "                nE += 1\n",
    "            else:\n",
    "                edges_ijk = np.append(edges_ijk, [[a_i, a_j, a_k, b_i, b_j, b_k, 1]]) \n",
    "                edges_xyz = np.append(edges_xyz, [[a_x, a_y, a_z, b_x, b_y, b_z, 1]]) \n",
    "                nE += 1\n",
    "\n",
    "df_ijk = pd.DataFrame(edges_ijk)\n",
    "df_xyz = pd.DataFrame(edges_xyz)\n",
    "df_ijk.columns = [\"a_i\", \"a_j\", \"a_k\", \"b_i\", \"b_j\", \"b_k\", \"val\"]\n",
    "df_xyz.columns = [\"a_x\", \"a_y\", \"a_z\", \"b_x\", \"b_y\", \"b_z\", \"val\"]\n",
    "df_ijk.to_csv(\"edges_to_plot_ijk.csv\", index=False)\n",
    "df_xyz.to_csv(\"edges_to_plot_xyz.csv\", index=False)"
   ]
  }
 ],
 "metadata": {
  "kernelspec": {
   "display_name": "base",
   "language": "python",
   "name": "python3"
  },
  "language_info": {
   "codemirror_mode": {
    "name": "ipython",
    "version": 3
   },
   "file_extension": ".py",
   "mimetype": "text/x-python",
   "name": "python",
   "nbconvert_exporter": "python",
   "pygments_lexer": "ipython3",
   "version": "3.11.5"
  }
 },
 "nbformat": 4,
 "nbformat_minor": 2
}
